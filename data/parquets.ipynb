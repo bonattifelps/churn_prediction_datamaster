import kagglehub

# Download latest version
path = kagglehub.dataset_download("gcenachi/case-data-master-2024")

print("Path to dataset files:", path)
